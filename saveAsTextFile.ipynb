{
  "nbformat": 4,
  "nbformat_minor": 0,
  "metadata": {
    "colab": {
      "provenance": [],
      "authorship_tag": "ABX9TyOJB4wpO30bEVPybEJlqDyh",
      "include_colab_link": true
    },
    "kernelspec": {
      "name": "python3",
      "display_name": "Python 3"
    },
    "language_info": {
      "name": "python"
    }
  },
  "cells": [
    {
      "cell_type": "markdown",
      "metadata": {
        "id": "view-in-github",
        "colab_type": "text"
      },
      "source": [
        "<a href=\"https://colab.research.google.com/github/SidneyRz/pyspark/blob/main/saveAsTextFile.ipynb\" target=\"_parent\"><img src=\"https://colab.research.google.com/assets/colab-badge.svg\" alt=\"Open In Colab\"/></a>"
      ]
    },
    {
      "cell_type": "code",
      "execution_count": 1,
      "metadata": {
        "id": "425fvaTbkVxL"
      },
      "outputs": [],
      "source": [
        "from pyspark.context import SparkContext"
      ]
    },
    {
      "cell_type": "code",
      "source": [
        "sc = SparkContext('local', 'test')"
      ],
      "metadata": {
        "id": "40xJ0eACke_4"
      },
      "execution_count": 2,
      "outputs": []
    },
    {
      "cell_type": "code",
      "source": [
        "from pyspark.sql import SparkSession\n",
        "import os\n",
        "import tempfile\n",
        "from fileinput import input\n",
        "from glob import glob"
      ],
      "metadata": {
        "id": "rS1GB-dCkjnm"
      },
      "execution_count": 3,
      "outputs": []
    },
    {
      "cell_type": "code",
      "source": [
        "spark = SparkSession.builder \\\n",
        "    .appName(\"Ejemplo_save\") \\\n",
        "    .getOrCreate()"
      ],
      "metadata": {
        "id": "H6LixOW3klQu"
      },
      "execution_count": 4,
      "outputs": []
    },
    {
      "cell_type": "code",
      "source": [
        "with tempfile.TemporaryDirectory() as d1:\n",
        "    path1 = os.path.join(d1, \"calificaciones\")"
      ],
      "metadata": {
        "id": "3hYlFcaxkr4O"
      },
      "execution_count": 5,
      "outputs": []
    },
    {
      "cell_type": "code",
      "source": [
        "calificaciones = [85, 90, 78, 92, 88, 76, 95]\n",
        "rdd = spark.sparkContext.parallelize(calificaciones)"
      ],
      "metadata": {
        "id": "bIOkdn8FkvdG"
      },
      "execution_count": 7,
      "outputs": []
    },
    {
      "cell_type": "code",
      "source": [
        "rdd.saveAsTextFile(path1)"
      ],
      "metadata": {
        "id": "wqENzQDYk05X"
      },
      "execution_count": 8,
      "outputs": []
    },
    {
      "cell_type": "code",
      "source": [
        "rdd_leido = spark.sparkContext.textFile(glob(path1 + \"/part-0000*\")[0])"
      ],
      "metadata": {
        "id": "joOl3XxKk4IH"
      },
      "execution_count": 9,
      "outputs": []
    },
    {
      "cell_type": "code",
      "source": [
        "calificaciones_leidas = rdd_leido.map(lambda x: int(x))\n"
      ],
      "metadata": {
        "id": "7vj_SHiQk9eA"
      },
      "execution_count": 10,
      "outputs": []
    },
    {
      "cell_type": "code",
      "source": [
        "promedio = calificaciones_leidas.mean()"
      ],
      "metadata": {
        "id": "jzHiRGLzk_rP"
      },
      "execution_count": 11,
      "outputs": []
    },
    {
      "cell_type": "code",
      "source": [
        "print(\"La calificación promedio es:\", promedio)\n"
      ],
      "metadata": {
        "colab": {
          "base_uri": "https://localhost:8080/"
        },
        "id": "ckFRKKf1lBv3",
        "outputId": "96a6db37-1fa3-4f11-a6f1-8a382a7d3b37"
      },
      "execution_count": 12,
      "outputs": [
        {
          "output_type": "stream",
          "name": "stdout",
          "text": [
            "La calificación promedio es: 86.28571428571428\n"
          ]
        }
      ]
    }
  ]
}