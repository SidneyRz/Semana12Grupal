{
  "nbformat": 4,
  "nbformat_minor": 0,
  "metadata": {
    "colab": {
      "provenance": [],
      "toc_visible": true,
      "authorship_tag": "ABX9TyN/F5pqGK83gjmoqIiuLbYM",
      "include_colab_link": true
    },
    "kernelspec": {
      "name": "python3",
      "display_name": "Python 3"
    },
    "language_info": {
      "name": "python"
    }
  },
  "cells": [
    {
      "cell_type": "markdown",
      "metadata": {
        "id": "view-in-github",
        "colab_type": "text"
      },
      "source": [
        "<a href=\"https://colab.research.google.com/github/SidneyRz/pyspark/blob/main/map.ipynb\" target=\"_parent\"><img src=\"https://colab.research.google.com/assets/colab-badge.svg\" alt=\"Open In Colab\"/></a>"
      ]
    },
    {
      "cell_type": "code",
      "execution_count": 1,
      "metadata": {
        "id": "esEM8xuFYvh0"
      },
      "outputs": [],
      "source": [
        "from pyspark.context import SparkContext\n",
        "\n",
        "sc = SparkContext(\"local\", \"test\")"
      ]
    },
    {
      "cell_type": "code",
      "source": [
        "data = [1, 2, 3, 4]\n",
        "rdd = sc.parallelize(data)\n",
        "rdd_transformed = rdd.map(lambda x: x * 2)"
      ],
      "metadata": {
        "id": "FSzyfnxugJ3B"
      },
      "execution_count": 2,
      "outputs": []
    },
    {
      "cell_type": "code",
      "source": [
        "print(rdd_transformed.collect())"
      ],
      "metadata": {
        "id": "6Rax2h-7e89g",
        "colab": {
          "base_uri": "https://localhost:8080/"
        },
        "outputId": "22ff27be-6556-447d-b0eb-7171f524848e"
      },
      "execution_count": 4,
      "outputs": [
        {
          "output_type": "stream",
          "name": "stdout",
          "text": [
            "[2, 4, 6, 8]\n"
          ]
        }
      ]
    }
  ]
}