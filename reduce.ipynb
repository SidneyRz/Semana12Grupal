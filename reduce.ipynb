{
  "nbformat": 4,
  "nbformat_minor": 0,
  "metadata": {
    "colab": {
      "provenance": [],
      "authorship_tag": "ABX9TyMULoxk0GOtR3VvH4TdCcen",
      "include_colab_link": true
    },
    "kernelspec": {
      "name": "python3",
      "display_name": "Python 3"
    },
    "language_info": {
      "name": "python"
    }
  },
  "cells": [
    {
      "cell_type": "markdown",
      "metadata": {
        "id": "view-in-github",
        "colab_type": "text"
      },
      "source": [
        "<a href=\"https://colab.research.google.com/github/SidneyRz/pyspark/blob/main/reduce.ipynb\" target=\"_parent\"><img src=\"https://colab.research.google.com/assets/colab-badge.svg\" alt=\"Open In Colab\"/></a>"
      ]
    },
    {
      "cell_type": "code",
      "execution_count": 1,
      "metadata": {
        "id": "wU7vjiZ2h2iE"
      },
      "outputs": [],
      "source": [
        "from operator import add"
      ]
    },
    {
      "cell_type": "code",
      "source": [
        "from pyspark.context import SparkContext"
      ],
      "metadata": {
        "id": "ENzpZ6tUihnH"
      },
      "execution_count": 2,
      "outputs": []
    },
    {
      "cell_type": "code",
      "source": [
        "sc = SparkContext('local', 'test')"
      ],
      "metadata": {
        "id": "Pf6o5eTGipYW"
      },
      "execution_count": 3,
      "outputs": []
    },
    {
      "cell_type": "code",
      "source": [
        "ventas = sc.parallelize([150.0, 200.5, 50.75, 300.0, 100.25])"
      ],
      "metadata": {
        "id": "uLUya1LMiuxu"
      },
      "execution_count": 4,
      "outputs": []
    },
    {
      "cell_type": "code",
      "source": [
        "total_ventas = ventas.reduce(add)"
      ],
      "metadata": {
        "id": "WYNSU_Zgiz-_"
      },
      "execution_count": 5,
      "outputs": []
    },
    {
      "cell_type": "code",
      "source": [
        "print(\"Total de ventas:\", total_ventas)"
      ],
      "metadata": {
        "colab": {
          "base_uri": "https://localhost:8080/"
        },
        "id": "ibkavjTEi663",
        "outputId": "aedc33f9-29e8-4196-f961-a18506c02d9e"
      },
      "execution_count": 9,
      "outputs": [
        {
          "output_type": "stream",
          "name": "stdout",
          "text": [
            "Total de ventas: 801.5\n"
          ]
        }
      ]
    }
  ]
}