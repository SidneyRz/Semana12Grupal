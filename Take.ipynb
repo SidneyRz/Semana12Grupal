{
  "nbformat": 4,
  "nbformat_minor": 0,
  "metadata": {
    "colab": {
      "provenance": [],
      "authorship_tag": "ABX9TyP2n76UwYSvizcPAYPVJg0P",
      "include_colab_link": true
    },
    "kernelspec": {
      "name": "python3",
      "display_name": "Python 3"
    },
    "language_info": {
      "name": "python"
    }
  },
  "cells": [
    {
      "cell_type": "markdown",
      "metadata": {
        "id": "view-in-github",
        "colab_type": "text"
      },
      "source": [
        "<a href=\"https://colab.research.google.com/github/SidneyRz/pyspark/blob/main/Take.ipynb\" target=\"_parent\"><img src=\"https://colab.research.google.com/assets/colab-badge.svg\" alt=\"Open In Colab\"/></a>"
      ]
    },
    {
      "cell_type": "code",
      "execution_count": 1,
      "metadata": {
        "id": "YDYkHFF0e_4z"
      },
      "outputs": [],
      "source": [
        "from pyspark.context import SparkContext"
      ]
    },
    {
      "cell_type": "code",
      "source": [
        "sc = SparkContext('local', 'test')"
      ],
      "metadata": {
        "id": "HajMI3tffJwH"
      },
      "execution_count": 2,
      "outputs": []
    },
    {
      "cell_type": "code",
      "source": [
        "sc.parallelize([2, 3, 4, 5, 6]).cache().take(2)"
      ],
      "metadata": {
        "colab": {
          "base_uri": "https://localhost:8080/"
        },
        "id": "akotXGkhfSGv",
        "outputId": "210eceea-b43d-45ae-8c73-4966879b2357"
      },
      "execution_count": 3,
      "outputs": [
        {
          "output_type": "execute_result",
          "data": {
            "text/plain": [
              "[2, 3]"
            ]
          },
          "metadata": {},
          "execution_count": 3
        }
      ]
    },
    {
      "cell_type": "code",
      "source": [
        "sc.parallelize([2, 3, 4, 5, 6, 7, 8 ,9, 10, 11, 12, 13, 14, 15]).take(10)"
      ],
      "metadata": {
        "colab": {
          "base_uri": "https://localhost:8080/"
        },
        "id": "49novXRCfbzH",
        "outputId": "8cad39a8-c79f-4e82-c652-37ab5f34ae16"
      },
      "execution_count": 5,
      "outputs": [
        {
          "output_type": "execute_result",
          "data": {
            "text/plain": [
              "[2, 3, 4, 5, 6, 7, 8, 9, 10, 11]"
            ]
          },
          "metadata": {},
          "execution_count": 5
        }
      ]
    },
    {
      "cell_type": "code",
      "source": [
        "sc.parallelize(range(100), 100).filter(lambda x: x > 90).take(5)"
      ],
      "metadata": {
        "colab": {
          "base_uri": "https://localhost:8080/"
        },
        "id": "E8yu0XlSfpgH",
        "outputId": "7dbef064-fe52-48dd-ca35-486d3e53a9f6"
      },
      "execution_count": 7,
      "outputs": [
        {
          "output_type": "execute_result",
          "data": {
            "text/plain": [
              "[91, 92, 93, 94, 95]"
            ]
          },
          "metadata": {},
          "execution_count": 7
        }
      ]
    }
  ]
}