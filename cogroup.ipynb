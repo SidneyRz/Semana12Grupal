{
  "nbformat": 4,
  "nbformat_minor": 0,
  "metadata": {
    "colab": {
      "provenance": [],
      "authorship_tag": "ABX9TyNHbfS4ABcDYlu78k9rpa2t",
      "include_colab_link": true
    },
    "kernelspec": {
      "name": "python3",
      "display_name": "Python 3"
    },
    "language_info": {
      "name": "python"
    }
  },
  "cells": [
    {
      "cell_type": "markdown",
      "metadata": {
        "id": "view-in-github",
        "colab_type": "text"
      },
      "source": [
        "<a href=\"https://colab.research.google.com/github/SidneyRz/pyspark/blob/main/cogroup.ipynb\" target=\"_parent\"><img src=\"https://colab.research.google.com/assets/colab-badge.svg\" alt=\"Open In Colab\"/></a>"
      ]
    },
    {
      "cell_type": "code",
      "execution_count": 1,
      "metadata": {
        "id": "ABkuKhcsXz7p"
      },
      "outputs": [],
      "source": [
        "from pyspark.context import SparkContext"
      ]
    },
    {
      "cell_type": "code",
      "source": [
        "sc = SparkContext('local', 'test')"
      ],
      "metadata": {
        "id": "kDWmqZsUX3Wp"
      },
      "execution_count": 2,
      "outputs": []
    },
    {
      "cell_type": "code",
      "source": [
        "rdd1 = sc.parallelize([('A', 1),('B', 2),('A', 3),('C', 4)])"
      ],
      "metadata": {
        "id": "12E4IwWcYBvB"
      },
      "execution_count": 3,
      "outputs": []
    },
    {
      "cell_type": "code",
      "source": [
        "rdd2 = sc.parallelize([('A', 5),('B', 6),('D', 7)])"
      ],
      "metadata": {
        "id": "IAWu8ldhYJKI"
      },
      "execution_count": 4,
      "outputs": []
    },
    {
      "cell_type": "code",
      "source": [
        "cogrouped = rdd1.cogroup(rdd2)"
      ],
      "metadata": {
        "id": "J0NmOJVfYRBw"
      },
      "execution_count": 5,
      "outputs": []
    },
    {
      "cell_type": "code",
      "source": [
        "for key, value in cogrouped.collect():\n",
        "    print(f\"{key}: {list(value[0])}, {list(value[1])}\")"
      ],
      "metadata": {
        "colab": {
          "base_uri": "https://localhost:8080/"
        },
        "id": "D7V0ufLUYTyZ",
        "outputId": "0219c46e-e835-4335-c187-f7a558389dca"
      },
      "execution_count": 6,
      "outputs": [
        {
          "output_type": "stream",
          "name": "stdout",
          "text": [
            "C: [4], []\n",
            "A: [1, 3], [5]\n",
            "B: [2], [6]\n",
            "D: [], [7]\n"
          ]
        }
      ]
    }
  ]
}